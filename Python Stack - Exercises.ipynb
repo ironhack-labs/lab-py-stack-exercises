{
 "cells": [
  {
   "cell_type": "markdown",
   "metadata": {},
   "source": [
    "# LAB | PY Stack Exercises\n"
   ]
  },
  {
   "cell_type": "markdown",
   "metadata": {},
   "source": [
    "\n",
    "## Overview\n"
   ]
  },
  {
   "cell_type": "markdown",
   "metadata": {},
   "source": [
    "\n",
    "This exercise notebook will help you practice stack operations in Python. You will write programs that implement various stack functionalities, enhancing your understanding of this important data structure.\n"
   ]
  },
  {
   "cell_type": "markdown",
   "metadata": {},
   "source": [
    "\n",
    "## Instructions\n"
   ]
  },
  {
   "cell_type": "markdown",
   "metadata": {},
   "source": [
    "\n",
    "- Complete each exercise by writing the appropriate Python code.\n",
    "- Test your code to ensure it behaves as expected.\n"
   ]
  },
  {
   "cell_type": "markdown",
   "metadata": {},
   "source": [
    "\n",
    "### Exercise 1: Parenthesis Checker\n"
   ]
  },
  {
   "cell_type": "markdown",
   "metadata": {},
   "source": [
    "\n",
    "Write a program to check if the parentheses in a given expression are balanced.\n",
    "\n",
    "```python\n",
    "# Example:\n",
    "# Input: \"((a + b) * (c + d))\"\n",
    "# Output: True\n",
    "```\n",
    "\n",
    "---\n"
   ]
  },
  {
   "cell_type": "code",
   "execution_count": 1,
   "metadata": {},
   "outputs": [],
   "source": [
    "# Insert your code HERE\n"
   ]
  },
  {
   "cell_type": "markdown",
   "metadata": {},
   "source": [
    "\n",
    "### Exercise 2: Reverse a String using Stack\n",
    "\n",
    "Implement a function that reverses a string using a stack.\n",
    "\n",
    "```python\n",
    "# Example:\n",
    "# Input: \"hello\"\n",
    "# Output: \"olleh\"\n",
    "```\n",
    "\n",
    "---\n"
   ]
  },
  {
   "cell_type": "code",
   "execution_count": 2,
   "metadata": {},
   "outputs": [],
   "source": [
    "# Insert your code HERE\n"
   ]
  },
  {
   "cell_type": "markdown",
   "metadata": {},
   "source": [
    "\n",
    "### Exercise 3: Evaluate Postfix Expression\n",
    "\n",
    "Write a program to evaluate a postfix expression using a stack.\n",
    "\n",
    "```python\n",
    "# Example:\n",
    "# Input: \"231*+9-\"\n",
    "# Output: -4\n",
    "```\n",
    "\n",
    "---\n"
   ]
  },
  {
   "cell_type": "code",
   "execution_count": 3,
   "metadata": {},
   "outputs": [],
   "source": [
    "# Insert your code HERE\n"
   ]
  },
  {
   "cell_type": "markdown",
   "metadata": {},
   "source": [
    "\n",
    "### Exercise 4: Next Greater Element\n",
    "\n",
    "Implement a function to find the next greater element for each element in an array.\n",
    "\n",
    "```python\n",
    "# Example:\n",
    "# Input: [4, 5, 2, 10]\n",
    "# Output: [5, 10, 10, -1]\n",
    "```\n",
    "\n",
    "---\n"
   ]
  },
  {
   "cell_type": "code",
   "execution_count": 4,
   "metadata": {},
   "outputs": [],
   "source": [
    "# Insert your code HERE\n"
   ]
  },
  {
   "cell_type": "markdown",
   "metadata": {},
   "source": [
    "\n",
    "### Exercise 5: Sort a Stack\n",
    "\n",
    "Write a function to sort a stack using another stack.\n",
    "\n",
    "```python\n",
    "# Example:\n",
    "# Input: [34, 3, 31, 98, 92, 23]\n",
    "# Output: [3, 23, 31, 34, 92, 98]\n",
    "```\n",
    "\n",
    "---\n"
   ]
  },
  {
   "cell_type": "code",
   "execution_count": 5,
   "metadata": {},
   "outputs": [],
   "source": [
    "# Insert your code HERE\n"
   ]
  },
  {
   "cell_type": "markdown",
   "metadata": {},
   "source": [
    "\n",
    "### Exercise 6: Reverse Words in a Given String\n",
    "\n",
    "Write a program to reverse the words in a given string using a stack.\n",
    "\n",
    "```python\n",
    "# Example:\n",
    "# Input: \"Hello World\"\n",
    "# Output: \"World Hello\"\n",
    "```\n",
    "\n",
    "---\n"
   ]
  },
  {
   "cell_type": "code",
   "execution_count": 6,
   "metadata": {},
   "outputs": [],
   "source": [
    "# Insert your code HERE\n"
   ]
  },
  {
   "cell_type": "markdown",
   "metadata": {},
   "source": [
    "\n",
    "### Exercise 7: Check for Balanced Parentheses in an Expression\n",
    "\n",
    "Write a function to check for balanced parentheses in an expression.\n",
    "\n",
    "```python\n",
    "# Example:\n",
    "# Input: \"{[()()]}\"\n",
    "# Output: True\n",
    "```\n",
    "\n",
    "---\n"
   ]
  },
  {
   "cell_type": "code",
   "execution_count": 7,
   "metadata": {},
   "outputs": [],
   "source": [
    "# Insert your code HERE\n"
   ]
  },
  {
   "cell_type": "markdown",
   "metadata": {},
   "source": [
    "\n",
    "### Exercise 8: Delete Middle Element from Stack\n",
    "\n",
    "Implement a function to delete the middle element from the stack.\n",
    "\n",
    "```python\n",
    "# Example:\n",
    "# Input: [1, 2, 3, 4, 5]\n",
    "# Output: [1, 2, 4, 5]\n",
    "```\n",
    "\n",
    "---\n"
   ]
  },
  {
   "cell_type": "code",
   "execution_count": 8,
   "metadata": {},
   "outputs": [],
   "source": [
    "# Insert your code HERE\n"
   ]
  },
  {
   "cell_type": "markdown",
   "metadata": {},
   "source": [
    "\n",
    "### Exercise 9: Implement Stack using Queues\n",
    "\n",
    "Write a program to implement a stack using two queues.\n",
    "\n",
    "```python\n",
    "# Example:\n",
    "# Input: Push(1), Push(2), Pop()\n",
    "# Output: 2\n",
    "```\n",
    "\n",
    "---\n"
   ]
  },
  {
   "cell_type": "code",
   "execution_count": 9,
   "metadata": {},
   "outputs": [],
   "source": [
    "# Insert your code HERE\n"
   ]
  },
  {
   "cell_type": "markdown",
   "metadata": {},
   "source": [
    "\n",
    "### Exercise 10: Find Minimum Element in Stack\n",
    "\n",
    "Design a stack that supports the operation `getMin()` which returns the minimum element in O(1) time.\n",
    "\n",
    "```python\n",
    "# Example:\n",
    "# Input: Push(3), Push(5), Push(2), getMin()\n",
    "# Output: 2\n",
    "```\n",
    "\n",
    "---\n"
   ]
  },
  {
   "cell_type": "code",
   "execution_count": 10,
   "metadata": {},
   "outputs": [],
   "source": [
    "# Insert your code HERE\n"
   ]
  },
  {
   "cell_type": "markdown",
   "metadata": {},
   "source": [
    "\n",
    "## Bonus Exercises\n",
    "\n",
    "### Bonus Exercise 1: Implement Multi-Stack System\n",
    "\n",
    "Create a multi-stack system that allows multiple stacks to be managed independently.\n",
    "\n",
    "```python\n",
    "# Example usage:\n",
    "# Create multiple stacks and perform push/pop operations on them.\n",
    "```\n",
    "\n",
    "---\n"
   ]
  },
  {
   "cell_type": "code",
   "execution_count": 11,
   "metadata": {},
   "outputs": [],
   "source": [
    "# Insert your code HERE\n"
   ]
  },
  {
   "cell_type": "markdown",
   "metadata": {},
   "source": [
    "\n",
    "### Bonus Exercise 2: Implement Stack with Max Functionality\n",
    "\n",
    "Design a stack that supports `getMax()` which returns the maximum element in O(1) time.\n",
    "\n",
    "```python\n",
    "# Example:\n",
    "# Input: Push(3), Push(5), Push(7), getMax()\n",
    "# Output: 7\n",
    "```\n",
    "\n",
    "---\n"
   ]
  },
  {
   "cell_type": "code",
   "execution_count": 12,
   "metadata": {},
   "outputs": [],
   "source": [
    "# Insert your code HERE\n"
   ]
  },
  {
   "cell_type": "markdown",
   "metadata": {},
   "source": [
    "\n",
    "## Exercise Completion\n"
   ]
  },
  {
   "cell_type": "markdown",
   "metadata": {},
   "source": [
    "\n",
    "Once you have completed all exercises:\n",
    "\n",
    "- Review your solutions.\n",
    "- Ensure your code is well-documented with comments explaining your logic.\n",
    "- Save your notebook for submission or further review.\n"
   ]
  },
  {
   "cell_type": "markdown",
   "metadata": {},
   "source": [
    "\n",
    "Happy coding! Enjoy practicing Stacks in Python!\n"
   ]
  }
 ],
 "metadata": {
  "kernelspec": {
   "display_name": ".venv",
   "language": "python",
   "name": "python3"
  },
  "language_info": {
   "codemirror_mode": {
    "name": "ipython",
    "version": 3
   },
   "file_extension": ".py",
   "mimetype": "text/x-python",
   "name": "python",
   "nbconvert_exporter": "python",
   "pygments_lexer": "ipython3",
   "version": "3.8.0"
  }
 },
 "nbformat": 4,
 "nbformat_minor": 2
}
